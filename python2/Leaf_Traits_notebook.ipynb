{
 "cells": [
  {
   "cell_type": "code",
   "execution_count": 1,
   "metadata": {},
   "outputs": [],
   "source": [
    "import numpy as np\n",
    "import os\n",
    "from pandas import DataFrame\n",
    "from skimage import transform, img_as_bool, img_as_int, img_as_ubyte, img_as_float32\n",
    "import skimage.io as io\n",
    "from skimage.measure import label, marching_cubes_lewiner, mesh_surface_area, regionprops\n",
    "import zipfile\n",
    "#import cv2\n",
    "\n",
    "def Trim_Individual_Stack(large_stack, small_stack):\n",
    "    print(\"***trimming stack***\")\n",
    "    dims = np.array(binary_stack.shape, dtype='float') / np.array(raw_pred_stack.shape, dtype='float')\n",
    "    if np.all(dims <= 2):\n",
    "        return large_stack\n",
    "    else:\n",
    "        if dims[1] > 2:\n",
    "            if (large_stack.shape[1]-1)/2 == small_stack.shape[1]:\n",
    "                large_stack = np.delete(large_stack, large_stack.shape[1]-1, axis=1)\n",
    "            else:\n",
    "                if (large_stack.shape[1]-2)/2 == small_stack.shape[1]:\n",
    "                    large_stack = np.delete(large_stack, np.arange(large_stack.shape[1]-2, large_stack.shape[1]), axis=1)\n",
    "        if dims[2] > 2:\n",
    "            if (large_stack.shape[2]-1)/2 == small_stack.shape[2]:\n",
    "                large_stack = np.delete(large_stack, large_stack.shape[2]-1, axis=2)\n",
    "            else:\n",
    "                if (large_stack.shape[2]-2)/2 == small_stack.shape[2]:\n",
    "                    large_stack = np.delete(large_stack, np.arange(large_stack.shape[2]-2, large_stack.shape[2]), axis=2)\n",
    "        return large_stack"
   ]
  },
  {
   "cell_type": "code",
   "execution_count": 2,
   "metadata": {},
   "outputs": [],
   "source": [
    "#Pixel dimmension\n",
    "px_edge = 0.1625 #µm\n",
    "vx_volume = px_edge**3\n",
    "\n",
    "#Define de values of the different tissues\n",
    "epid_value = 69\n",
    "bg_value = 177\n",
    "spongy_value = 0\n",
    "palisade_value = 0\n",
    "if spongy_value == palisade_value:\n",
    "    mesophyll_value = spongy_value\n",
    "else:\n",
    "    mesophyll_value = [spongy_value, palisade_value]\n",
    "ias_value = 255\n",
    "vein_value = 147\n"
   ]
  },
  {
   "cell_type": "code",
   "execution_count": 3,
   "metadata": {},
   "outputs": [],
   "source": [
    "#Load segmented image\n",
    "base_folder_name = '/run/media/gtrancourt/DATADRIVE1/guillaume/_WORK/Vitis/Vitis_greenhouse_shading/microCT/_ML_DONE/'\n",
    "sample_name = 'S_I_2_Strip4_'\n",
    "folder_name = 'MLresults/'\n",
    "binary_filename = sample_name + 'BINARY-8bit.tif'\n",
    "raw_ML_prediction_name = 'fullstack_prediction.tif'\n",
    "\n",
    "filepath = base_folder_name + sample_name + '/'"
   ]
  },
  {
   "cell_type": "code",
   "execution_count": 4,
   "metadata": {},
   "outputs": [
    {
     "name": "stdout",
     "output_type": "stream",
     "text": [
      "This file has already been processed!\n"
     ]
    },
    {
     "ename": "AssertionError",
     "evalue": "",
     "output_type": "error",
     "traceback": [
      "\u001b[0;31m---------------------------------------------------------------------------\u001b[0m",
      "\u001b[0;31mAssertionError\u001b[0m                            Traceback (most recent call last)",
      "\u001b[0;32m<ipython-input-4-50d54470e1b6>\u001b[0m in \u001b[0;36m<module>\u001b[0;34m()\u001b[0m\n\u001b[1;32m      1\u001b[0m \u001b[0;32mif\u001b[0m \u001b[0mos\u001b[0m\u001b[0;34m.\u001b[0m\u001b[0mpath\u001b[0m\u001b[0;34m.\u001b[0m\u001b[0misfile\u001b[0m\u001b[0;34m(\u001b[0m\u001b[0mfilepath\u001b[0m \u001b[0;34m+\u001b[0m \u001b[0msample_name\u001b[0m \u001b[0;34m+\u001b[0m \u001b[0;34m'RESULTS.txt'\u001b[0m\u001b[0;34m)\u001b[0m\u001b[0;34m:\u001b[0m\u001b[0;34m\u001b[0m\u001b[0m\n\u001b[1;32m      2\u001b[0m     \u001b[0;32mprint\u001b[0m\u001b[0;34m(\u001b[0m\u001b[0;34m'This file has already been processed!'\u001b[0m\u001b[0;34m)\u001b[0m\u001b[0;34m\u001b[0m\u001b[0m\n\u001b[0;32m----> 3\u001b[0;31m     \u001b[0;32massert\u001b[0m \u001b[0mFalse\u001b[0m\u001b[0;34m\u001b[0m\u001b[0m\n\u001b[0m",
      "\u001b[0;31mAssertionError\u001b[0m: "
     ]
    }
   ],
   "source": [
    "if os.path.isfile(filepath + sample_name + 'RESULTS.txt'):\n",
    "    print('This file has already been processed!')\n",
    "    assert False"
   ]
  },
  {
   "cell_type": "code",
   "execution_count": 5,
   "metadata": {},
   "outputs": [
    {
     "name": "stdout",
     "output_type": "stream",
     "text": [
      "[  0  64 128 191 255]\n"
     ]
    },
    {
     "data": {
      "text/plain": [
       "<matplotlib.image.AxesImage at 0x7fe2ba1ecc50>"
      ]
     },
     "execution_count": 5,
     "metadata": {},
     "output_type": "execute_result"
    },
    {
     "data": {
      "image/png": "[encoded data removed]",
      "text/plain": [
       "<Figure size 432x288 with 1 Axes>"
      ]
     },
     "metadata": {
      "needs_background": "light"
     },
     "output_type": "display_data"
    }
   ],
   "source": [
    "# Load the ML segmented stack\n",
    "raw_pred_stack = io.imread(filepath + folder_name + raw_ML_prediction_name)\n",
    "print(np.unique(raw_pred_stack[100]))\n",
    "io.imshow(raw_pred_stack[100])"
   ]
  },
  {
   "cell_type": "code",
   "execution_count": 6,
   "metadata": {},
   "outputs": [],
   "source": [
    "# Sometimes, the output values are different than what is written above.\n",
    "# This is a way to assign values. But you have to double-check that the other is right.\n",
    "\n",
    "#mesophyll_value, bg_value, epid_value, vein_value, ias_value = np.split(np.unique(raw_pred_stack[100]), len(np.unique(raw_pred_stack[100])))\n",
    "\n",
    "#Define de values of the different tissues\n",
    "epid_value = 64\n",
    "bg_value = 191\n",
    "mesophyll_value = 0\n",
    "ias_value = 255\n",
    "vein_value = 128"
   ]
  },
  {
   "cell_type": "code",
   "execution_count": 7,
   "metadata": {},
   "outputs": [
    {
     "name": "stderr",
     "output_type": "stream",
     "text": [
      "/home/gtrancourt/anaconda2/lib/python2.7/site-packages/skimage/io/_plugins/matplotlib_plugin.py:77: UserWarning: Low image data range; displaying image with stretched contrast.\n",
      "  warn(\"Low image data range; displaying image with \"\n"
     ]
    },
    {
     "data": {
      "text/plain": [
       "<matplotlib.image.AxesImage at 0x7fe29a7d5d10>"
      ]
     },
     "execution_count": 7,
     "metadata": {},
     "output_type": "execute_result"
    },
    {
     "data": {
      "image/png": "[encoded data removed]",
      "text/plain": [
       "<Figure size 432x288 with 2 Axes>"
      ]
     },
     "metadata": {
      "needs_background": "light"
     },
     "output_type": "display_data"
    }
   ],
   "source": [
    "###################\n",
    "## EPIDERMIS\n",
    "###################\n",
    "\n",
    "# Label all of the epidermis regions \n",
    "unique_epidermis_volumes = label(raw_pred_stack == epid_value, connectivity=1)\n",
    "props_of_unique_epidermis = regionprops(unique_epidermis_volumes)\n",
    "\n",
    "io.imshow(unique_epidermis_volumes[100])"
   ]
  },
  {
   "cell_type": "code",
   "execution_count": 8,
   "metadata": {},
   "outputs": [
    {
     "name": "stdout",
     "output_type": "stream",
     "text": [
      "The two largest values below should be in the same order of magnitude\n",
      "[5.28600000e+03 5.90900000e+03 7.72300070e+07 1.05951612e+08]\n",
      "The center of the epidermis should be more or less the same on the 1st and 3rd columns\n",
      "[[1913.76768823   20.861521     88.21415059]\n",
      " [1562.1521408   263.92841428 1160.36419022]\n",
      " [1037.51938725  311.02541134  615.52176946]\n",
      " [ 921.14584318   62.03463843  629.19045172]]\n"
     ]
    },
    {
     "data": {
      "text/plain": [
       "<matplotlib.image.AxesImage at 0x7fe08c7ab310>"
      ]
     },
     "execution_count": 8,
     "metadata": {},
     "output_type": "execute_result"
    },
    {
     "data": {
      "image/png": "[encoded data removed]",
      "text/plain": [
       "<Figure size 432x288 with 1 Axes>"
      ]
     },
     "metadata": {
      "needs_background": "light"
     },
     "output_type": "display_data"
    }
   ],
   "source": [
    "# Find the size and properties of the epidermis regions\n",
    "epidermis_area = np.zeros(len(props_of_unique_epidermis))\n",
    "epidermis_label = np.zeros(len(props_of_unique_epidermis))\n",
    "epidermis_centroid = np.zeros([len(props_of_unique_epidermis),3])\n",
    "for regions in np.arange(len(props_of_unique_epidermis)):\n",
    "    epidermis_area[regions] = props_of_unique_epidermis[regions].area\n",
    "    epidermis_label[regions] = props_of_unique_epidermis[regions].label\n",
    "    epidermis_centroid[regions] = props_of_unique_epidermis[regions].centroid\n",
    "\n",
    "# Find the two largest epidermis\n",
    "ordered_epidermis = np.argsort(epidermis_area)\n",
    "print('The two largest values below should be in the same order of magnitude')\n",
    "print(epidermis_area[ordered_epidermis[-4:]])\n",
    "print('The center of the epidermis should be more or less the same on the 1st and 3rd columns')\n",
    "print(epidermis_centroid[ordered_epidermis[-4:]])\n",
    "\n",
    "two_largest_epidermis = (unique_epidermis_volumes == ordered_epidermis[-1]+1) | (unique_epidermis_volumes == ordered_epidermis[-2]+1)\n",
    "\n",
    "#Check if it's correct\n",
    "#io.imsave(filepath + folder_name + 'test_epidermis.tif', \n",
    "#          img_as_ubyte(two_largest_epidermis))\n",
    "io.imshow(two_largest_epidermis[100])"
   ]
  },
  {
   "cell_type": "code",
   "execution_count": 9,
   "metadata": {},
   "outputs": [],
   "source": [
    "# Get the values again: makes it cleaner\n",
    "unique_epidermis_volumes = label(two_largest_epidermis, connectivity=1)\n",
    "props_of_unique_epidermis = regionprops(unique_epidermis_volumes)\n",
    "epidermis_area = np.zeros(len(props_of_unique_epidermis))\n",
    "epidermis_label = np.zeros(len(props_of_unique_epidermis))\n",
    "epidermis_centroid = np.zeros([len(props_of_unique_epidermis),3])\n",
    "for regions in np.arange(len(props_of_unique_epidermis)):\n",
    "    epidermis_area[regions] = props_of_unique_epidermis[regions].area\n",
    "    epidermis_label[regions] = props_of_unique_epidermis[regions].label\n",
    "    epidermis_centroid[regions] = props_of_unique_epidermis[regions].centroid\n",
    "\n",
    "#io.imshow(unique_epidermis_volumes[100])\n",
    "\n",
    "# Transform the array to 8-bit: no need for the extra precision as there are only 3 values\n",
    "unique_epidermis_volumes = np.array(unique_epidermis_volumes, dtype='uint8')\n",
    "\n",
    "# Find the fvalues of each epidermis: assumes adaxial epidermis is at the top of the image\n",
    "adaxial_epidermis_value = unique_epidermis_volumes[100,:,100][(unique_epidermis_volumes[100,:,100] != 0).argmax()]\n",
    "abaxial_epidermis_value = int(np.arange(start=1,stop=3)[np.arange(start=1,stop=3) != adaxial_epidermis_value])\n",
    "\n",
    "# Compute volume\n",
    "epidermis_adaxial_volume = epidermis_area[adaxial_epidermis_value - 1] * (px_edge * (px_edge*2)**2)\n",
    "epidermis_abaxial_volume = epidermis_area[abaxial_epidermis_value - 1] * (px_edge * (px_edge*2)**2)\n",
    "\n",
    "# Tichkness return a 2D array, i.e. the thcikness of each column\n",
    "epidermis_abaxial_thickness = np.sum((unique_epidermis_volumes == abaxial_epidermis_value), axis=1) * (px_edge*2)\n",
    "epidermis_adaxial_thickness = np.sum((unique_epidermis_volumes == adaxial_epidermis_value), axis=1) * (px_edge*2)\n"
   ]
  },
  {
   "cell_type": "code",
   "execution_count": 10,
   "metadata": {},
   "outputs": [
    {
     "data": {
      "text/plain": [
       "<matplotlib.image.AxesImage at 0x7fe2a072ef50>"
      ]
     },
     "execution_count": 10,
     "metadata": {},
     "output_type": "execute_result"
    },
    {
     "data": {
      "image/png": "[encoded data removed]",
      "text/plain": [
       "<Figure size 432x288 with 2 Axes>"
      ]
     },
     "metadata": {
      "needs_background": "light"
     },
     "output_type": "display_data"
    }
   ],
   "source": [
    "###################\n",
    "## VEINS\n",
    "###################\n",
    "\n",
    "# Get the veins volumes\n",
    "unique_vein_volumes = label(raw_pred_stack == vein_value, connectivity=1)\n",
    "props_of_unique_veins = regionprops(unique_vein_volumes)\n",
    "\n",
    "io.imshow(unique_vein_volumes[100])"
   ]
  },
  {
   "cell_type": "code",
   "execution_count": 11,
   "metadata": {},
   "outputs": [
    {
     "data": {
      "text/plain": [
       "<matplotlib.image.AxesImage at 0x7fe29f46d210>"
      ]
     },
     "execution_count": 11,
     "metadata": {},
     "output_type": "execute_result"
    },
    {
     "data": {
      "image/png": "[encoded data removed]",
      "text/plain": [
       "<Figure size 432x288 with 1 Axes>"
      ]
     },
     "metadata": {
      "needs_background": "light"
     },
     "output_type": "display_data"
    }
   ],
   "source": [
    "veins_area = np.zeros(len(props_of_unique_veins))\n",
    "veins_label = np.zeros(len(props_of_unique_veins))\n",
    "veins_centroid = np.zeros([len(props_of_unique_veins),3])\n",
    "for regions in np.arange(len(props_of_unique_veins)):\n",
    "    veins_area[regions] = props_of_unique_veins[regions].area\n",
    "    veins_label[regions] = props_of_unique_veins[regions].label\n",
    "    veins_centroid[regions] = props_of_unique_veins[regions].centroid\n",
    "\n",
    "# Find the largest veins\n",
    "ordered_veins = np.argsort(veins_area)\n",
    "#veins_area[ordered_veins[-80:]]\n",
    "#veins_area[ordered_veins[:1000]]\n",
    "#veins_centroid[ordered_veins[-4:]]\n",
    "\n",
    "#print(np.sum(veins_area <= 1000))\n",
    "\n",
    "# I found that for my images, a threshold of 100000 (1e5) pixel^3 remove \n",
    "# the noise left by the segmentation method and kept only the argest veins.\n",
    "# This should be adjusted depending on the species/images/maginification.\n",
    "large_veins_ids = veins_label[veins_area > 100000]\n",
    "\n",
    "largest_veins = np.in1d(unique_vein_volumes, large_veins_ids).reshape(raw_pred_stack.shape)\n",
    "\n",
    "# Get the values again\n",
    "vein_volume = np.sum(largest_veins) * (px_edge * (px_edge*2)**2)\n",
    "\n",
    "#Check if it's correct\n",
    "#io.imsave(base_folder_name + sample_name + '/' + folder_name + 'test_veins.tif', \n",
    "#          img_as_ubyte(largest_veins))\n",
    "io.imshow(largest_veins[100])\n"
   ]
  },
  {
   "cell_type": "code",
   "execution_count": 12,
   "metadata": {},
   "outputs": [
    {
     "name": "stderr",
     "output_type": "stream",
     "text": [
      "/home/gtrancourt/anaconda2/lib/python2.7/site-packages/skimage/util/dtype.py:130: UserWarning: Possible precision loss when converting from uint8 to bool\n",
      "  .format(dtypeobj_in, dtypeobj_out))\n"
     ]
    }
   ],
   "source": [
    "###################\n",
    "## AIRSPACE\n",
    "###################\n",
    "\n",
    "#########################################\n",
    "## CREATE THE FULLSIZE SEGMENTED STACK ##\n",
    "#########################################\n",
    "\n",
    "# My segmenteation procedure used a reduced size stack, since my original \n",
    "# images are too big to be handled. I do want to use my original images for\n",
    "# their quality and details, so I use the binary image and add on top of it\n",
    "# the background, epidermis, and veins that have been segmented. That way, I \n",
    "# keep the detail I want at the airspace-cell interface, while still having a\n",
    "# good background, epidermis, and vein segmentation to remove the tissues that\n",
    "# are not need for some traits.\n",
    "\n",
    "##############################\n",
    "## LOADING THE BINARY STACK ##\n",
    "## IN ORIGINAL SIZE         ##\n",
    "##############################\n",
    "\n",
    "# I've started compressing my files. The code below extracts the file,\n",
    "# loads it into memory, and then deletes the file (it's still in memory).\n",
    "# The commented code at the end loads the uncompressed image.\n",
    "\n",
    "#Load the compressed binary stack in the original dimensions\n",
    "\n",
    "binary_zip = zipfile.ZipFile(base_folder_name + sample_name + '/' + binary_filename + '.zip', 'r')\n",
    "binary_zip.extractall(base_folder_name + sample_name + '/')\n",
    "#binary_raw = binary_zip.open(sample_name + '/' + binary_filename)\n",
    "binary_stack = img_as_bool(io.imread(base_folder_name + sample_name + '/' + sample_name + '/' + binary_filename))\n",
    "\n",
    "os.remove(base_folder_name + sample_name + '/' + sample_name + '/' + binary_filename)\n",
    "os.rmdir(base_folder_name + sample_name + '/' + sample_name)\n"
   ]
  },
  {
   "cell_type": "code",
   "execution_count": 13,
   "metadata": {},
   "outputs": [
    {
     "name": "stdout",
     "output_type": "stream",
     "text": [
      "***trimming stack***\n"
     ]
    }
   ],
   "source": [
    "#Check and trim the binary stack if necessary\n",
    "# This is to match the dimensions between all images\n",
    "# Basically, it trims odds numbered dimension so to be able to divide/multiply them by 2.\n",
    "binary_stack = Trim_Individual_Stack(binary_stack, raw_pred_stack)\n",
    "\n",
    "# TO MANUALLY DELETE SOME SLICES\n",
    "#binary_stack = np.delete(binary_stack, 910, axis=1)\n",
    "#binary_stack = np.delete(binary_stack, 482, axis=0)\n",
    "\n",
    "#binary_stack = np.delete(binary_stack, np.arange(0, 160*2), axis=2)"
   ]
  },
  {
   "cell_type": "code",
   "execution_count": 14,
   "metadata": {},
   "outputs": [
    {
     "name": "stderr",
     "output_type": "stream",
     "text": [
      "/home/gtrancourt/anaconda2/lib/python2.7/site-packages/skimage/transform/_warps.py:105: UserWarning: The default mode, 'constant', will be changed to 'reflect' in skimage 0.15.\n",
      "  warn(\"The default mode, 'constant', will be changed to 'reflect' in \"\n",
      "/home/gtrancourt/anaconda2/lib/python2.7/site-packages/skimage/util/dtype.py:126: UserWarning: Possible sign loss when converting negative image of type float64 to positive image of type bool.\n",
      "  .format(dtypeobj_in, dtypeobj_out))\n",
      "/home/gtrancourt/anaconda2/lib/python2.7/site-packages/skimage/util/dtype.py:130: UserWarning: Possible precision loss when converting from float64 to bool\n",
      "  .format(dtypeobj_in, dtypeobj_out))\n"
     ]
    },
    {
     "name": "stdout",
     "output_type": "stream",
     "text": [
      "### Validate the values in the stack ###\n",
      "[  0  30  60 147 177 255]\n"
     ]
    },
    {
     "data": {
      "image/png": "[encoded data removed]",
      "text/plain": [
       "<Figure size 432x288 with 1 Axes>"
      ]
     },
     "metadata": {
      "needs_background": "light"
     },
     "output_type": "display_data"
    }
   ],
   "source": [
    "# This cell creates an empty array filled with the backgroud color (177), then\n",
    "# adds all of the leaf to it. Looping over each slice (this is more memory \n",
    "# efficient than working on the whole stack), it takes the ML segmented image,\n",
    "# resize the slice, and adds it to the empty array.\n",
    "bg_value_new = 177\n",
    "vein_value_new = 147\n",
    "ias_value_new = 255\n",
    "\n",
    "large_segmented_stack = np.full(shape=binary_stack.shape, fill_value=bg_value_new, dtype='uint8') # Assign an array filled with the background value 177.\n",
    "for idx in np.arange(large_segmented_stack.shape[0]):\n",
    "    # Creates a boolean 2D array of the veins (from the largest veins id'ed earlier)\n",
    "    temp_veins = img_as_bool(transform.resize(largest_veins[idx],\n",
    "                                              [binary_stack.shape[1], binary_stack.shape[2]], \n",
    "                                              anti_aliasing=False, order=0))    \n",
    "    # Creates a 2D array with the epidermis being assinged values 30 or 60\n",
    "    temp_epid = transform.resize(unique_epidermis_volumes[idx],\n",
    "                                              [binary_stack.shape[1], binary_stack.shape[2]], \n",
    "                                              anti_aliasing=False, preserve_range=True, order=0) * 30\n",
    "    # Creates a 2D mask of only the leaf to remove the backgroud from the\n",
    "    # original sized binary image.\n",
    "    leaf_mask = img_as_bool(transform.resize(raw_pred_stack[idx] != bg_value,\n",
    "                                             [binary_stack.shape[1], binary_stack.shape[2]],\n",
    "                                             anti_aliasing=False, order=0))\n",
    "    large_segmented_stack[idx][leaf_mask] = binary_stack[idx][leaf_mask] * ias_value_new #binary_stack is a boolean, so you need to multiply it.\n",
    "    large_segmented_stack[idx][temp_veins] = vein_value_new #vein_value\n",
    "    large_segmented_stack[idx][temp_epid != 0] = temp_epid[temp_epid != 0]\n",
    "    \n",
    "io.imshow(large_segmented_stack[100])\n",
    "print('### Validate the values in the stack ###')\n",
    "print(np.unique(large_segmented_stack[100]))\n",
    "#io.imsave(base_folder_name + sample_name + '/' + sample_name +'SEGMENTED.tif', large_segmented_stack, imagej=True)"
   ]
  },
  {
   "cell_type": "code",
   "execution_count": 15,
   "metadata": {},
   "outputs": [
    {
     "name": "stdout",
     "output_type": "stream",
     "text": [
      "11880805.32925\n",
      "11880805.329249999\n",
      "(92.625, 92.54953034491842, 3.3967242960686477)\n",
      "(68.25, 68.05718808624607, 4.475813766245699)\n",
      "(14.3, 14.166285668443923, 3.47138643659738)\n",
      "(10.075000000000001, 10.326056590228413, 3.1089858989358725)\n"
     ]
    }
   ],
   "source": [
    "################################################\n",
    "## COMPUTE TRAITS ON THE ORIGINAL SIZED STACK ##\n",
    "################################################\n",
    "\n",
    "# Load the large segmented stack to re-run the calculations if needed\n",
    "\n",
    "#large_segmented_stack = io.imread(base_folder_name + sample_name + '/' + sample_name +'SEGMENTED.tif')\n",
    "#\n",
    "#io.imshow(large_segmented_stack[100])\n",
    "#print(np.unique(large_segmented_stack[100]))\n",
    "\n",
    "#large_segmented_stack = np.delete(large_segmented_stack, np.arange(0,500), axis=0)\n",
    "\n",
    "#%%\n",
    "# Redefine the values for the different tissues as used in the segmented image.\n",
    "# The epidermis will be defined later.\n",
    "bg_value = 177\n",
    "spongy_value = 0\n",
    "palisade_value = 0\n",
    "if spongy_value == palisade_value:\n",
    "    mesophyll_value = spongy_value\n",
    "else:\n",
    "    mesophyll_value = [spongy_value, palisade_value]\n",
    "ias_value = 255\n",
    "vein_value = 147\n",
    "\n",
    "# Find the values of each epidermis: assumes adaxial epidermis is at the top of the image\n",
    "adaxial_epidermis_value = large_segmented_stack[100,:,100][(large_segmented_stack[100,:,100] != bg_value).argmax()]\n",
    "\n",
    "if adaxial_epidermis_value == 30:\n",
    "    abaxial_epidermis_value = 60\n",
    "else:\n",
    "    if adaxial_epidermis_value == 60:\n",
    "        abaxial_epidermis_value = 30\n",
    "\n",
    "#Measure the different volumes\n",
    "leaf_volume = np.sum(large_segmented_stack != bg_value) * vx_volume\n",
    "mesophyll_volume = np.sum((large_segmented_stack != bg_value) & (large_segmented_stack != adaxial_epidermis_value) & (large_segmented_stack != abaxial_epidermis_value)) * vx_volume\n",
    "cell_volume = np.sum(large_segmented_stack == mesophyll_value) * vx_volume\n",
    "air_volume = np.sum(large_segmented_stack == ias_value) * vx_volume\n",
    "epidermis_abaxial_volume = np.sum(large_segmented_stack == abaxial_epidermis_value) * vx_volume\n",
    "epidermis_adaxial_volume = np.sum(large_segmented_stack == adaxial_epidermis_value) * vx_volume\n",
    "vein_volume = np.sum(large_segmented_stack == vein_value) * vx_volume\n",
    "\n",
    "print(leaf_volume)\n",
    "print(cell_volume + air_volume + epidermis_abaxial_volume + epidermis_adaxial_volume + vein_volume)\n",
    "\n",
    "\n",
    "#Measure the thickness of the leaf, the epidermis, and the mesophyll\n",
    "leaf_thickness = np.sum(np.array(large_segmented_stack != bg_value, dtype='bool'), axis=1) * px_edge\n",
    "mesophyll_thickness = np.sum((large_segmented_stack != bg_value) & (large_segmented_stack != adaxial_epidermis_value) & (large_segmented_stack != abaxial_epidermis_value), axis=1) * px_edge\n",
    "epidermis_abaxial_thickness = np.sum(large_segmented_stack == abaxial_epidermis_value, axis=1) * px_edge\n",
    "epidermis_adaxial_thickness = np.sum(large_segmented_stack == adaxial_epidermis_value, axis=1) * px_edge\n",
    "\n",
    "print(np.median(leaf_thickness),leaf_thickness.mean(),leaf_thickness.std())\n",
    "print(np.median(mesophyll_thickness),mesophyll_thickness.mean(),mesophyll_thickness.std())\n",
    "print(np.median(epidermis_adaxial_thickness),epidermis_adaxial_thickness.mean(),epidermis_adaxial_thickness.std())\n",
    "print(np.median(epidermis_abaxial_thickness),epidermis_abaxial_thickness.mean(),epidermis_abaxial_thickness.std())\n"
   ]
  },
  {
   "cell_type": "code",
   "execution_count": 16,
   "metadata": {},
   "outputs": [
    {
     "name": "stdout",
     "output_type": "stream",
     "text": [
      "IAS surface area: 1500525.4387500002 µm**2\n",
      "or 1.50052543875 mm**2\n",
      "Sm: 11.688847748815167\n",
      "Ames/Vmes: 0.1919623444929115\n"
     ]
    }
   ],
   "source": [
    "# Leaf area\n",
    "# I was lazy here as I assume the leaf is parallel to the border of the image.\n",
    "leaf_area = large_segmented_stack.shape[0] * large_segmented_stack.shape[2] * (px_edge**2)\n",
    "\n",
    "#Caluculate Surface Area (adapted from Matt Jenkins' code)\n",
    "# This take quite a lot of RAM\n",
    "#This gives 1% less surface than from BoneJ's results, but way way faster!!!\n",
    "ias_vert_faces = marching_cubes_lewiner(large_segmented_stack == ias_value)\n",
    "ias_SA = mesh_surface_area(ias_vert_faces[0],ias_vert_faces[1])\n",
    "true_ias_SA = ias_SA * (px_edge**2)\n",
    "print('IAS surface area: '+str(true_ias_SA)+' µm**2')\n",
    "print('or '+str(float(true_ias_SA/1000000))+' mm**2')\n",
    "# end Matt's code\n",
    "\n",
    "print('Sm: '+str(true_ias_SA/leaf_area))\n",
    "print('Ames/Vmes: '+str(true_ias_SA/(mesophyll_volume-vein_volume)))\n",
    "\n",
    " \n",
    "# Write the data into a data frame\n",
    "data_out = {'LeafArea':leaf_area,\n",
    "            'LeafThickness':leaf_thickness.mean(),\n",
    "            'LeafThickness_SD':leaf_thickness.std(),\n",
    "            'MesophyllThickness':mesophyll_thickness.mean(),\n",
    "            'MesophyllThickness_SD':mesophyll_thickness.std(),\n",
    "            'ADEpidermisThickness':epidermis_adaxial_thickness.mean(),\n",
    "            'ADEpidermisThickness_SD':epidermis_adaxial_thickness.std(),\n",
    "            'ABEpidermisThickness':epidermis_abaxial_thickness.mean(),\n",
    "            'ABEpidermisThickness_SD':epidermis_abaxial_thickness.std(),\n",
    "            'LeafVolume':leaf_volume,\n",
    "            'MesophyllVolume':mesophyll_volume,\n",
    "            'ADEpidermisVolume':epidermis_adaxial_volume,\n",
    "            'ABEpidermisVolume':epidermis_abaxial_volume,\n",
    "            'VeinVolume':vein_volume,\n",
    "            'CellVolume':cell_volume,\n",
    "            'IASVolume':air_volume,\n",
    "            'IASSurfaceArea':true_ias_SA}\n",
    "results_out = DataFrame(data_out, index={sample_name})\n",
    "# Save the data to a CSV\n",
    "results_out.to_csv(base_folder_name + sample_name + '/' + sample_name + 'RESULTS.txt', sep='\\t', encoding='utf-8')\n"
   ]
  }
 ],
 "metadata": {
  "kernelspec": {
   "display_name": "Python 2",
   "language": "python",
   "name": "python2"
  },
  "language_info": {
   "codemirror_mode": {
    "name": "ipython",
    "version": 2
   },
   "file_extension": ".py",
   "mimetype": "text/x-python",
   "name": "python",
   "nbconvert_exporter": "python",
   "pygments_lexer": "ipython2",
   "version": "2.7.15"
  }
 },
 "nbformat": 4,
 "nbformat_minor": 2
}
